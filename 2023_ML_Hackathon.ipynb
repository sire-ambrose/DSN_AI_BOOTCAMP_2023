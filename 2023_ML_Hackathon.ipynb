{
 "cells": [
  {
   "cell_type": "markdown",
   "metadata": {
    "id": "DN27kv0pi81e"
   },
   "source": [
    "# Importing the Libraries and Files"
   ]
  },
  {
   "cell_type": "code",
   "execution_count": null,
   "metadata": {
    "id": "ACdhwnZfieUi"
   },
   "outputs": [],
   "source": [
    "import pandas as pd\n",
    "import numpy as np\n",
    "import matplotlib.pyplot as plt\n",
    "import scipy\n",
    "import lightgbm as lgbm\n",
    "import sklearn\n",
    "import seaborn as sns"
   ]
  },
  {
   "cell_type": "code",
   "execution_count": null,
   "metadata": {
    "id": "cTY4Ezqtj5zZ"
   },
   "outputs": [],
   "source": [
    "train = pd.read_csv('Housing_dataset_train.csv')\n",
    "test = pd.read_csv('Housing_dataset_test.csv')"
   ]
  },
  {
   "cell_type": "markdown",
   "metadata": {
    "id": "agDjV3bykT5e"
   },
   "source": [
    "# Exploratory Data Analysis"
   ]
  },
  {
   "cell_type": "code",
   "execution_count": null,
   "metadata": {
    "colab": {
     "base_uri": "https://localhost:8080/",
     "height": 363
    },
    "id": "ldLGQMKfkSqv",
    "outputId": "9922a3f1-1451-48ae-9ed0-2ec877006a85"
   },
   "outputs": [
    {
     "data": {
      "text/html": [
       "\n",
       "\n",
       "  <div id=\"df-182b0714-80c0-433d-b451-9b74eac69045\">\n",
       "    <div class=\"colab-df-container\">\n",
       "      <div>\n",
       "<style scoped>\n",
       "    .dataframe tbody tr th:only-of-type {\n",
       "        vertical-align: middle;\n",
       "    }\n",
       "\n",
       "    .dataframe tbody tr th {\n",
       "        vertical-align: top;\n",
       "    }\n",
       "\n",
       "    .dataframe thead th {\n",
       "        text-align: right;\n",
       "    }\n",
       "</style>\n",
       "<table border=\"1\" class=\"dataframe\">\n",
       "  <thead>\n",
       "    <tr style=\"text-align: right;\">\n",
       "      <th></th>\n",
       "      <th>ID</th>\n",
       "      <th>loc</th>\n",
       "      <th>title</th>\n",
       "      <th>bedroom</th>\n",
       "      <th>bathroom</th>\n",
       "      <th>parking_space</th>\n",
       "      <th>price</th>\n",
       "    </tr>\n",
       "  </thead>\n",
       "  <tbody>\n",
       "    <tr>\n",
       "      <th>0</th>\n",
       "      <td>3583</td>\n",
       "      <td>Katsina</td>\n",
       "      <td>Semi-detached duplex</td>\n",
       "      <td>2.0</td>\n",
       "      <td>2.0</td>\n",
       "      <td>1.0</td>\n",
       "      <td>1149999.565</td>\n",
       "    </tr>\n",
       "    <tr>\n",
       "      <th>1</th>\n",
       "      <td>2748</td>\n",
       "      <td>Ondo</td>\n",
       "      <td>Apartment</td>\n",
       "      <td>NaN</td>\n",
       "      <td>2.0</td>\n",
       "      <td>4.0</td>\n",
       "      <td>1672416.689</td>\n",
       "    </tr>\n",
       "    <tr>\n",
       "      <th>2</th>\n",
       "      <td>9261</td>\n",
       "      <td>Ekiti</td>\n",
       "      <td>NaN</td>\n",
       "      <td>7.0</td>\n",
       "      <td>5.0</td>\n",
       "      <td>NaN</td>\n",
       "      <td>3364799.814</td>\n",
       "    </tr>\n",
       "    <tr>\n",
       "      <th>3</th>\n",
       "      <td>2224</td>\n",
       "      <td>Anambra</td>\n",
       "      <td>Detached duplex</td>\n",
       "      <td>5.0</td>\n",
       "      <td>2.0</td>\n",
       "      <td>4.0</td>\n",
       "      <td>2410306.756</td>\n",
       "    </tr>\n",
       "    <tr>\n",
       "      <th>4</th>\n",
       "      <td>10300</td>\n",
       "      <td>Kogi</td>\n",
       "      <td>Terrace duplex</td>\n",
       "      <td>NaN</td>\n",
       "      <td>5.0</td>\n",
       "      <td>6.0</td>\n",
       "      <td>2600700.898</td>\n",
       "    </tr>\n",
       "    <tr>\n",
       "      <th>5</th>\n",
       "      <td>1733</td>\n",
       "      <td>Borno</td>\n",
       "      <td>Mansion</td>\n",
       "      <td>NaN</td>\n",
       "      <td>1.0</td>\n",
       "      <td>3.0</td>\n",
       "      <td>1341750.867</td>\n",
       "    </tr>\n",
       "    <tr>\n",
       "      <th>6</th>\n",
       "      <td>7892</td>\n",
       "      <td>Kwara</td>\n",
       "      <td>Bungalow</td>\n",
       "      <td>NaN</td>\n",
       "      <td>4.0</td>\n",
       "      <td>4.0</td>\n",
       "      <td>2125789.778</td>\n",
       "    </tr>\n",
       "    <tr>\n",
       "      <th>7</th>\n",
       "      <td>3003</td>\n",
       "      <td>Katsina</td>\n",
       "      <td>Penthouse</td>\n",
       "      <td>3.0</td>\n",
       "      <td>3.0</td>\n",
       "      <td>5.0</td>\n",
       "      <td>2043107.592</td>\n",
       "    </tr>\n",
       "    <tr>\n",
       "      <th>8</th>\n",
       "      <td>555</td>\n",
       "      <td>Osun</td>\n",
       "      <td>Semi-detached duplex</td>\n",
       "      <td>NaN</td>\n",
       "      <td>1.0</td>\n",
       "      <td>2.0</td>\n",
       "      <td>1219453.877</td>\n",
       "    </tr>\n",
       "    <tr>\n",
       "      <th>9</th>\n",
       "      <td>3085</td>\n",
       "      <td>Kaduna</td>\n",
       "      <td>Penthouse</td>\n",
       "      <td>NaN</td>\n",
       "      <td>3.0</td>\n",
       "      <td>3.0</td>\n",
       "      <td>2710664.872</td>\n",
       "    </tr>\n",
       "  </tbody>\n",
       "</table>\n",
       "</div>\n",
       "      <button class=\"colab-df-convert\" onclick=\"convertToInteractive('df-182b0714-80c0-433d-b451-9b74eac69045')\"\n",
       "              title=\"Convert this dataframe to an interactive table.\"\n",
       "              style=\"display:none;\">\n",
       "\n",
       "  <svg xmlns=\"http://www.w3.org/2000/svg\" height=\"24px\"viewBox=\"0 0 24 24\"\n",
       "       width=\"24px\">\n",
       "    <path d=\"M0 0h24v24H0V0z\" fill=\"none\"/>\n",
       "    <path d=\"M18.56 5.44l.94 2.06.94-2.06 2.06-.94-2.06-.94-.94-2.06-.94 2.06-2.06.94zm-11 1L8.5 8.5l.94-2.06 2.06-.94-2.06-.94L8.5 2.5l-.94 2.06-2.06.94zm10 10l.94 2.06.94-2.06 2.06-.94-2.06-.94-.94-2.06-.94 2.06-2.06.94z\"/><path d=\"M17.41 7.96l-1.37-1.37c-.4-.4-.92-.59-1.43-.59-.52 0-1.04.2-1.43.59L10.3 9.45l-7.72 7.72c-.78.78-.78 2.05 0 2.83L4 21.41c.39.39.9.59 1.41.59.51 0 1.02-.2 1.41-.59l7.78-7.78 2.81-2.81c.8-.78.8-2.07 0-2.86zM5.41 20L4 18.59l7.72-7.72 1.47 1.35L5.41 20z\"/>\n",
       "  </svg>\n",
       "      </button>\n",
       "\n",
       "\n",
       "\n",
       "    <div id=\"df-4fab907b-28ef-45a2-b509-e5a1b6f04e63\">\n",
       "      <button class=\"colab-df-quickchart\" onclick=\"quickchart('df-4fab907b-28ef-45a2-b509-e5a1b6f04e63')\"\n",
       "              title=\"Suggest charts.\"\n",
       "              style=\"display:none;\">\n",
       "\n",
       "<svg xmlns=\"http://www.w3.org/2000/svg\" height=\"24px\"viewBox=\"0 0 24 24\"\n",
       "     width=\"24px\">\n",
       "    <g>\n",
       "        <path d=\"M19 3H5c-1.1 0-2 .9-2 2v14c0 1.1.9 2 2 2h14c1.1 0 2-.9 2-2V5c0-1.1-.9-2-2-2zM9 17H7v-7h2v7zm4 0h-2V7h2v10zm4 0h-2v-4h2v4z\"/>\n",
       "    </g>\n",
       "</svg>\n",
       "      </button>\n",
       "    </div>\n",
       "\n",
       "<style>\n",
       "  .colab-df-quickchart {\n",
       "    background-color: #E8F0FE;\n",
       "    border: none;\n",
       "    border-radius: 50%;\n",
       "    cursor: pointer;\n",
       "    display: none;\n",
       "    fill: #1967D2;\n",
       "    height: 32px;\n",
       "    padding: 0 0 0 0;\n",
       "    width: 32px;\n",
       "  }\n",
       "\n",
       "  .colab-df-quickchart:hover {\n",
       "    background-color: #E2EBFA;\n",
       "    box-shadow: 0px 1px 2px rgba(60, 64, 67, 0.3), 0px 1px 3px 1px rgba(60, 64, 67, 0.15);\n",
       "    fill: #174EA6;\n",
       "  }\n",
       "\n",
       "  [theme=dark] .colab-df-quickchart {\n",
       "    background-color: #3B4455;\n",
       "    fill: #D2E3FC;\n",
       "  }\n",
       "\n",
       "  [theme=dark] .colab-df-quickchart:hover {\n",
       "    background-color: #434B5C;\n",
       "    box-shadow: 0px 1px 3px 1px rgba(0, 0, 0, 0.15);\n",
       "    filter: drop-shadow(0px 1px 2px rgba(0, 0, 0, 0.3));\n",
       "    fill: #FFFFFF;\n",
       "  }\n",
       "</style>\n",
       "\n",
       "    <script>\n",
       "      async function quickchart(key) {\n",
       "        const containerElement = document.querySelector('#' + key);\n",
       "        const charts = await google.colab.kernel.invokeFunction(\n",
       "            'suggestCharts', [key], {});\n",
       "      }\n",
       "    </script>\n",
       "\n",
       "      <script>\n",
       "\n",
       "function displayQuickchartButton(domScope) {\n",
       "  let quickchartButtonEl =\n",
       "    domScope.querySelector('#df-4fab907b-28ef-45a2-b509-e5a1b6f04e63 button.colab-df-quickchart');\n",
       "  quickchartButtonEl.style.display =\n",
       "    google.colab.kernel.accessAllowed ? 'block' : 'none';\n",
       "}\n",
       "\n",
       "        displayQuickchartButton(document);\n",
       "      </script>\n",
       "      <style>\n",
       "    .colab-df-container {\n",
       "      display:flex;\n",
       "      flex-wrap:wrap;\n",
       "      gap: 12px;\n",
       "    }\n",
       "\n",
       "    .colab-df-convert {\n",
       "      background-color: #E8F0FE;\n",
       "      border: none;\n",
       "      border-radius: 50%;\n",
       "      cursor: pointer;\n",
       "      display: none;\n",
       "      fill: #1967D2;\n",
       "      height: 32px;\n",
       "      padding: 0 0 0 0;\n",
       "      width: 32px;\n",
       "    }\n",
       "\n",
       "    .colab-df-convert:hover {\n",
       "      background-color: #E2EBFA;\n",
       "      box-shadow: 0px 1px 2px rgba(60, 64, 67, 0.3), 0px 1px 3px 1px rgba(60, 64, 67, 0.15);\n",
       "      fill: #174EA6;\n",
       "    }\n",
       "\n",
       "    [theme=dark] .colab-df-convert {\n",
       "      background-color: #3B4455;\n",
       "      fill: #D2E3FC;\n",
       "    }\n",
       "\n",
       "    [theme=dark] .colab-df-convert:hover {\n",
       "      background-color: #434B5C;\n",
       "      box-shadow: 0px 1px 3px 1px rgba(0, 0, 0, 0.15);\n",
       "      filter: drop-shadow(0px 1px 2px rgba(0, 0, 0, 0.3));\n",
       "      fill: #FFFFFF;\n",
       "    }\n",
       "  </style>\n",
       "\n",
       "      <script>\n",
       "        const buttonEl =\n",
       "          document.querySelector('#df-182b0714-80c0-433d-b451-9b74eac69045 button.colab-df-convert');\n",
       "        buttonEl.style.display =\n",
       "          google.colab.kernel.accessAllowed ? 'block' : 'none';\n",
       "\n",
       "        async function convertToInteractive(key) {\n",
       "          const element = document.querySelector('#df-182b0714-80c0-433d-b451-9b74eac69045');\n",
       "          const dataTable =\n",
       "            await google.colab.kernel.invokeFunction('convertToInteractive',\n",
       "                                                     [key], {});\n",
       "          if (!dataTable) return;\n",
       "\n",
       "          const docLinkHtml = 'Like what you see? Visit the ' +\n",
       "            '<a target=\"_blank\" href=https://colab.research.google.com/notebooks/data_table.ipynb>data table notebook</a>'\n",
       "            + ' to learn more about interactive tables.';\n",
       "          element.innerHTML = '';\n",
       "          dataTable['output_type'] = 'display_data';\n",
       "          await google.colab.output.renderOutput(dataTable, element);\n",
       "          const docLink = document.createElement('div');\n",
       "          docLink.innerHTML = docLinkHtml;\n",
       "          element.appendChild(docLink);\n",
       "        }\n",
       "      </script>\n",
       "    </div>\n",
       "  </div>\n"
      ],
      "text/plain": [
       "      ID      loc                 title  bedroom  bathroom  parking_space  \\\n",
       "0   3583  Katsina  Semi-detached duplex      2.0       2.0            1.0   \n",
       "1   2748     Ondo             Apartment      NaN       2.0            4.0   \n",
       "2   9261    Ekiti                   NaN      7.0       5.0            NaN   \n",
       "3   2224  Anambra       Detached duplex      5.0       2.0            4.0   \n",
       "4  10300     Kogi        Terrace duplex      NaN       5.0            6.0   \n",
       "5   1733    Borno               Mansion      NaN       1.0            3.0   \n",
       "6   7892    Kwara              Bungalow      NaN       4.0            4.0   \n",
       "7   3003  Katsina             Penthouse      3.0       3.0            5.0   \n",
       "8    555     Osun  Semi-detached duplex      NaN       1.0            2.0   \n",
       "9   3085   Kaduna             Penthouse      NaN       3.0            3.0   \n",
       "\n",
       "         price  \n",
       "0  1149999.565  \n",
       "1  1672416.689  \n",
       "2  3364799.814  \n",
       "3  2410306.756  \n",
       "4  2600700.898  \n",
       "5  1341750.867  \n",
       "6  2125789.778  \n",
       "7  2043107.592  \n",
       "8  1219453.877  \n",
       "9  2710664.872  "
      ]
     },
     "execution_count": 3,
     "metadata": {},
     "output_type": "execute_result"
    }
   ],
   "source": [
    "#preview the train column\n",
    "train.head(10)"
   ]
  },
  {
   "cell_type": "code",
   "execution_count": null,
   "metadata": {
    "colab": {
     "base_uri": "https://localhost:8080/"
    },
    "id": "bu-MBuCfkbXm",
    "outputId": "e0b092d1-839f-4438-9a40-cc2787459e3e"
   },
   "outputs": [
    {
     "name": "stdout",
     "output_type": "stream",
     "text": [
      "<class 'pandas.core.frame.DataFrame'>\n",
      "RangeIndex: 14000 entries, 0 to 13999\n",
      "Data columns (total 7 columns):\n",
      " #   Column         Non-Null Count  Dtype  \n",
      "---  ------         --------------  -----  \n",
      " 0   ID             14000 non-null  int64  \n",
      " 1   loc            12187 non-null  object \n",
      " 2   title          12278 non-null  object \n",
      " 3   bedroom        12201 non-null  float64\n",
      " 4   bathroom       12195 non-null  float64\n",
      " 5   parking_space  12189 non-null  float64\n",
      " 6   price          14000 non-null  float64\n",
      "dtypes: float64(4), int64(1), object(2)\n",
      "memory usage: 765.8+ KB\n"
     ]
    }
   ],
   "source": [
    "#review the dataframe\n",
    "train.info()"
   ]
  },
  {
   "cell_type": "code",
   "execution_count": null,
   "metadata": {
    "colab": {
     "base_uri": "https://localhost:8080/"
    },
    "id": "laxfVJpmkkfE",
    "outputId": "1c826c3f-c259-4f4e-a35a-2ab5892de606"
   },
   "outputs": [
    {
     "data": {
      "text/plain": [
       "Index(['ID', 'loc', 'title', 'bedroom', 'bathroom', 'parking_space', 'price'], dtype='object')"
      ]
     },
     "execution_count": 5,
     "metadata": {},
     "output_type": "execute_result"
    }
   ],
   "source": [
    "#check the column names\n",
    "train.columns"
   ]
  },
  {
   "cell_type": "code",
   "execution_count": null,
   "metadata": {
    "colab": {
     "base_uri": "https://localhost:8080/",
     "height": 363
    },
    "id": "4oHkTJIAk-UN",
    "outputId": "2021a195-7174-4220-a3cc-86ebddc75d00"
   },
   "outputs": [
    {
     "data": {
      "text/html": [
       "\n",
       "\n",
       "  <div id=\"df-31de4cbf-7a1a-4fb5-b047-4c95f3a6efa6\">\n",
       "    <div class=\"colab-df-container\">\n",
       "      <div>\n",
       "<style scoped>\n",
       "    .dataframe tbody tr th:only-of-type {\n",
       "        vertical-align: middle;\n",
       "    }\n",
       "\n",
       "    .dataframe tbody tr th {\n",
       "        vertical-align: top;\n",
       "    }\n",
       "\n",
       "    .dataframe thead th {\n",
       "        text-align: right;\n",
       "    }\n",
       "</style>\n",
       "<table border=\"1\" class=\"dataframe\">\n",
       "  <thead>\n",
       "    <tr style=\"text-align: right;\">\n",
       "      <th></th>\n",
       "      <th>ID</th>\n",
       "      <th>loc</th>\n",
       "      <th>title</th>\n",
       "      <th>bedroom</th>\n",
       "      <th>bathroom</th>\n",
       "      <th>parking_space</th>\n",
       "    </tr>\n",
       "  </thead>\n",
       "  <tbody>\n",
       "    <tr>\n",
       "      <th>0</th>\n",
       "      <td>845</td>\n",
       "      <td>Kano</td>\n",
       "      <td>Penthouse</td>\n",
       "      <td>4</td>\n",
       "      <td>1</td>\n",
       "      <td>2</td>\n",
       "    </tr>\n",
       "    <tr>\n",
       "      <th>1</th>\n",
       "      <td>1924</td>\n",
       "      <td>Adamawa</td>\n",
       "      <td>Apartment</td>\n",
       "      <td>2</td>\n",
       "      <td>2</td>\n",
       "      <td>4</td>\n",
       "    </tr>\n",
       "    <tr>\n",
       "      <th>2</th>\n",
       "      <td>10718</td>\n",
       "      <td>Adamawa</td>\n",
       "      <td>Bungalow</td>\n",
       "      <td>2</td>\n",
       "      <td>7</td>\n",
       "      <td>2</td>\n",
       "    </tr>\n",
       "    <tr>\n",
       "      <th>3</th>\n",
       "      <td>12076</td>\n",
       "      <td>Lagos</td>\n",
       "      <td>Mansion</td>\n",
       "      <td>9</td>\n",
       "      <td>5</td>\n",
       "      <td>2</td>\n",
       "    </tr>\n",
       "    <tr>\n",
       "      <th>4</th>\n",
       "      <td>12254</td>\n",
       "      <td>Gombe</td>\n",
       "      <td>Semi-detached duplex</td>\n",
       "      <td>5</td>\n",
       "      <td>6</td>\n",
       "      <td>1</td>\n",
       "    </tr>\n",
       "    <tr>\n",
       "      <th>5</th>\n",
       "      <td>9950</td>\n",
       "      <td>Edo</td>\n",
       "      <td>Detached duplex</td>\n",
       "      <td>6</td>\n",
       "      <td>4</td>\n",
       "      <td>5</td>\n",
       "    </tr>\n",
       "    <tr>\n",
       "      <th>6</th>\n",
       "      <td>1548</td>\n",
       "      <td>Niger</td>\n",
       "      <td>Flat</td>\n",
       "      <td>9</td>\n",
       "      <td>3</td>\n",
       "      <td>4</td>\n",
       "    </tr>\n",
       "    <tr>\n",
       "      <th>7</th>\n",
       "      <td>526</td>\n",
       "      <td>Anambra</td>\n",
       "      <td>Flat</td>\n",
       "      <td>1</td>\n",
       "      <td>1</td>\n",
       "      <td>4</td>\n",
       "    </tr>\n",
       "    <tr>\n",
       "      <th>8</th>\n",
       "      <td>6776</td>\n",
       "      <td>Niger</td>\n",
       "      <td>Flat</td>\n",
       "      <td>1</td>\n",
       "      <td>5</td>\n",
       "      <td>1</td>\n",
       "    </tr>\n",
       "    <tr>\n",
       "      <th>9</th>\n",
       "      <td>1851</td>\n",
       "      <td>Adamawa</td>\n",
       "      <td>Bungalow</td>\n",
       "      <td>4</td>\n",
       "      <td>1</td>\n",
       "      <td>4</td>\n",
       "    </tr>\n",
       "  </tbody>\n",
       "</table>\n",
       "</div>\n",
       "      <button class=\"colab-df-convert\" onclick=\"convertToInteractive('df-31de4cbf-7a1a-4fb5-b047-4c95f3a6efa6')\"\n",
       "              title=\"Convert this dataframe to an interactive table.\"\n",
       "              style=\"display:none;\">\n",
       "\n",
       "  <svg xmlns=\"http://www.w3.org/2000/svg\" height=\"24px\"viewBox=\"0 0 24 24\"\n",
       "       width=\"24px\">\n",
       "    <path d=\"M0 0h24v24H0V0z\" fill=\"none\"/>\n",
       "    <path d=\"M18.56 5.44l.94 2.06.94-2.06 2.06-.94-2.06-.94-.94-2.06-.94 2.06-2.06.94zm-11 1L8.5 8.5l.94-2.06 2.06-.94-2.06-.94L8.5 2.5l-.94 2.06-2.06.94zm10 10l.94 2.06.94-2.06 2.06-.94-2.06-.94-.94-2.06-.94 2.06-2.06.94z\"/><path d=\"M17.41 7.96l-1.37-1.37c-.4-.4-.92-.59-1.43-.59-.52 0-1.04.2-1.43.59L10.3 9.45l-7.72 7.72c-.78.78-.78 2.05 0 2.83L4 21.41c.39.39.9.59 1.41.59.51 0 1.02-.2 1.41-.59l7.78-7.78 2.81-2.81c.8-.78.8-2.07 0-2.86zM5.41 20L4 18.59l7.72-7.72 1.47 1.35L5.41 20z\"/>\n",
       "  </svg>\n",
       "      </button>\n",
       "\n",
       "\n",
       "\n",
       "    <div id=\"df-c1b0d38f-9f0b-4e16-b992-8a92cf90ca33\">\n",
       "      <button class=\"colab-df-quickchart\" onclick=\"quickchart('df-c1b0d38f-9f0b-4e16-b992-8a92cf90ca33')\"\n",
       "              title=\"Suggest charts.\"\n",
       "              style=\"display:none;\">\n",
       "\n",
       "<svg xmlns=\"http://www.w3.org/2000/svg\" height=\"24px\"viewBox=\"0 0 24 24\"\n",
       "     width=\"24px\">\n",
       "    <g>\n",
       "        <path d=\"M19 3H5c-1.1 0-2 .9-2 2v14c0 1.1.9 2 2 2h14c1.1 0 2-.9 2-2V5c0-1.1-.9-2-2-2zM9 17H7v-7h2v7zm4 0h-2V7h2v10zm4 0h-2v-4h2v4z\"/>\n",
       "    </g>\n",
       "</svg>\n",
       "      </button>\n",
       "    </div>\n",
       "\n",
       "<style>\n",
       "  .colab-df-quickchart {\n",
       "    background-color: #E8F0FE;\n",
       "    border: none;\n",
       "    border-radius: 50%;\n",
       "    cursor: pointer;\n",
       "    display: none;\n",
       "    fill: #1967D2;\n",
       "    height: 32px;\n",
       "    padding: 0 0 0 0;\n",
       "    width: 32px;\n",
       "  }\n",
       "\n",
       "  .colab-df-quickchart:hover {\n",
       "    background-color: #E2EBFA;\n",
       "    box-shadow: 0px 1px 2px rgba(60, 64, 67, 0.3), 0px 1px 3px 1px rgba(60, 64, 67, 0.15);\n",
       "    fill: #174EA6;\n",
       "  }\n",
       "\n",
       "  [theme=dark] .colab-df-quickchart {\n",
       "    background-color: #3B4455;\n",
       "    fill: #D2E3FC;\n",
       "  }\n",
       "\n",
       "  [theme=dark] .colab-df-quickchart:hover {\n",
       "    background-color: #434B5C;\n",
       "    box-shadow: 0px 1px 3px 1px rgba(0, 0, 0, 0.15);\n",
       "    filter: drop-shadow(0px 1px 2px rgba(0, 0, 0, 0.3));\n",
       "    fill: #FFFFFF;\n",
       "  }\n",
       "</style>\n",
       "\n",
       "    <script>\n",
       "      async function quickchart(key) {\n",
       "        const containerElement = document.querySelector('#' + key);\n",
       "        const charts = await google.colab.kernel.invokeFunction(\n",
       "            'suggestCharts', [key], {});\n",
       "      }\n",
       "    </script>\n",
       "\n",
       "      <script>\n",
       "\n",
       "function displayQuickchartButton(domScope) {\n",
       "  let quickchartButtonEl =\n",
       "    domScope.querySelector('#df-c1b0d38f-9f0b-4e16-b992-8a92cf90ca33 button.colab-df-quickchart');\n",
       "  quickchartButtonEl.style.display =\n",
       "    google.colab.kernel.accessAllowed ? 'block' : 'none';\n",
       "}\n",
       "\n",
       "        displayQuickchartButton(document);\n",
       "      </script>\n",
       "      <style>\n",
       "    .colab-df-container {\n",
       "      display:flex;\n",
       "      flex-wrap:wrap;\n",
       "      gap: 12px;\n",
       "    }\n",
       "\n",
       "    .colab-df-convert {\n",
       "      background-color: #E8F0FE;\n",
       "      border: none;\n",
       "      border-radius: 50%;\n",
       "      cursor: pointer;\n",
       "      display: none;\n",
       "      fill: #1967D2;\n",
       "      height: 32px;\n",
       "      padding: 0 0 0 0;\n",
       "      width: 32px;\n",
       "    }\n",
       "\n",
       "    .colab-df-convert:hover {\n",
       "      background-color: #E2EBFA;\n",
       "      box-shadow: 0px 1px 2px rgba(60, 64, 67, 0.3), 0px 1px 3px 1px rgba(60, 64, 67, 0.15);\n",
       "      fill: #174EA6;\n",
       "    }\n",
       "\n",
       "    [theme=dark] .colab-df-convert {\n",
       "      background-color: #3B4455;\n",
       "      fill: #D2E3FC;\n",
       "    }\n",
       "\n",
       "    [theme=dark] .colab-df-convert:hover {\n",
       "      background-color: #434B5C;\n",
       "      box-shadow: 0px 1px 3px 1px rgba(0, 0, 0, 0.15);\n",
       "      filter: drop-shadow(0px 1px 2px rgba(0, 0, 0, 0.3));\n",
       "      fill: #FFFFFF;\n",
       "    }\n",
       "  </style>\n",
       "\n",
       "      <script>\n",
       "        const buttonEl =\n",
       "          document.querySelector('#df-31de4cbf-7a1a-4fb5-b047-4c95f3a6efa6 button.colab-df-convert');\n",
       "        buttonEl.style.display =\n",
       "          google.colab.kernel.accessAllowed ? 'block' : 'none';\n",
       "\n",
       "        async function convertToInteractive(key) {\n",
       "          const element = document.querySelector('#df-31de4cbf-7a1a-4fb5-b047-4c95f3a6efa6');\n",
       "          const dataTable =\n",
       "            await google.colab.kernel.invokeFunction('convertToInteractive',\n",
       "                                                     [key], {});\n",
       "          if (!dataTable) return;\n",
       "\n",
       "          const docLinkHtml = 'Like what you see? Visit the ' +\n",
       "            '<a target=\"_blank\" href=https://colab.research.google.com/notebooks/data_table.ipynb>data table notebook</a>'\n",
       "            + ' to learn more about interactive tables.';\n",
       "          element.innerHTML = '';\n",
       "          dataTable['output_type'] = 'display_data';\n",
       "          await google.colab.output.renderOutput(dataTable, element);\n",
       "          const docLink = document.createElement('div');\n",
       "          docLink.innerHTML = docLinkHtml;\n",
       "          element.appendChild(docLink);\n",
       "        }\n",
       "      </script>\n",
       "    </div>\n",
       "  </div>\n"
      ],
      "text/plain": [
       "      ID      loc                 title  bedroom  bathroom  parking_space\n",
       "0    845     Kano             Penthouse        4         1              2\n",
       "1   1924  Adamawa             Apartment        2         2              4\n",
       "2  10718  Adamawa              Bungalow        2         7              2\n",
       "3  12076    Lagos               Mansion        9         5              2\n",
       "4  12254    Gombe  Semi-detached duplex        5         6              1\n",
       "5   9950      Edo       Detached duplex        6         4              5\n",
       "6   1548    Niger                  Flat        9         3              4\n",
       "7    526  Anambra                  Flat        1         1              4\n",
       "8   6776    Niger                  Flat        1         5              1\n",
       "9   1851  Adamawa              Bungalow        4         1              4"
      ]
     },
     "execution_count": 6,
     "metadata": {},
     "output_type": "execute_result"
    }
   ],
   "source": [
    "#check the test dataframe\n",
    "test.head(10)"
   ]
  },
  {
   "cell_type": "code",
   "execution_count": null,
   "metadata": {
    "colab": {
     "base_uri": "https://localhost:8080/"
    },
    "id": "Xjk4Z6-NmBcM",
    "outputId": "2ef4938f-2e6d-46c8-f8ff-6870e80c27ec"
   },
   "outputs": [
    {
     "data": {
      "text/plain": [
       "ID                  0\n",
       "loc              1813\n",
       "title            1722\n",
       "bedroom          1799\n",
       "bathroom         1805\n",
       "parking_space    1811\n",
       "price               0\n",
       "dtype: int64"
      ]
     },
     "execution_count": 7,
     "metadata": {},
     "output_type": "execute_result"
    }
   ],
   "source": [
    "#check for null values\n",
    "train.isnull().sum()"
   ]
  },
  {
   "cell_type": "markdown",
   "metadata": {
    "id": "wIf-QvcbvCTH"
   },
   "source": [
    "# Handling Missing Data"
   ]
  },
  {
   "cell_type": "code",
   "execution_count": null,
   "metadata": {
    "colab": {
     "base_uri": "https://localhost:8080/"
    },
    "id": "Z8Bba3WZnfBO",
    "outputId": "e3e013e1-7846-4770-9698-a07d96e9524c"
   },
   "outputs": [
    {
     "name": "stdout",
     "output_type": "stream",
     "text": [
      "Empty DataFrame\n",
      "Columns: [ID, loc, title, bedroom, bathroom, parking_space, price]\n",
      "Index: []\n"
     ]
    }
   ],
   "source": [
    "#first check if there are instances where there are nulls in all feature columns\n",
    "\n",
    "column_names = ['loc', 'title', 'bedroom', 'bathroom', 'parking_space']\n",
    "\n",
    "#filtering train for row with all column values missing\n",
    "empty_rows = train[train[column_names].isnull().sum(axis=1) == 5]\n",
    "\n",
    "print(empty_rows)\n"
   ]
  },
  {
   "cell_type": "markdown",
   "metadata": {
    "id": "8g-sTu0zoDvg"
   },
   "source": [
    "there are no rows where all the values are missing"
   ]
  },
  {
   "cell_type": "code",
   "execution_count": null,
   "metadata": {
    "colab": {
     "base_uri": "https://localhost:8080/"
    },
    "id": "8m7EZSVLoScI",
    "outputId": "1400dc90-920c-4885-fcc7-d7ee142092c8"
   },
   "outputs": [
    {
     "name": "stdout",
     "output_type": "stream",
     "text": [
      "59\n"
     ]
    }
   ],
   "source": [
    "#check for rows where there are nulls in atleast 3 feature columns\n",
    "\n",
    "column_names = ['loc', 'title', 'bedroom', 'bathroom', 'parking_space']\n",
    "\n",
    "#filtering train for row with all column values missing\n",
    "empty_rows_two = train[train[column_names].isnull().sum(axis=1) >= 3]\n",
    "\n",
    "print(len(empty_rows_two))"
   ]
  },
  {
   "cell_type": "markdown",
   "metadata": {
    "id": "Xm9rAhwOoiks"
   },
   "source": [
    "we then proceed to filter out these rows from the train dataset"
   ]
  },
  {
   "cell_type": "code",
   "execution_count": null,
   "metadata": {
    "id": "jU3nu39AoiK6"
   },
   "outputs": [],
   "source": [
    "# Merge the two DataFrames based on all columns\n",
    "merged_df = train.merge(empty_rows_two, how='left', indicator=True)\n",
    "\n",
    "# Drop the rows that are present in both DataFrames\n",
    "train = merged_df[merged_df['_merge'] == 'left_only'].drop('_merge', axis=1)"
   ]
  },
  {
   "cell_type": "markdown",
   "metadata": {
    "id": "bvawpZNknxYP"
   },
   "source": [
    "Visualization on Missing Data and Statistical Test"
   ]
  },
  {
   "cell_type": "code",
   "execution_count": null,
   "metadata": {
    "colab": {
     "base_uri": "https://localhost:8080/",
     "height": 529
    },
    "id": "Iw_rAGRDr81n",
    "outputId": "db0a0302-c9b7-4875-f9c5-d001040951fa"
   },
   "outputs": [
    {
     "data": {
      "image/png": "[encoded data removed]",
      "text/plain": [
       "<Figure size 1000x600 with 1 Axes>"
      ]
     },
     "metadata": {},
     "output_type": "display_data"
    }
   ],
   "source": [
    "#plot the missing values, with the yellow lines indicating missing values\n",
    "plt.figure(figsize=(10, 6))\n",
    "sns.heatmap(train.isnull(), cmap='viridis', cbar=False)\n",
    "plt.show()"
   ]
  },
  {
   "cell_type": "code",
   "execution_count": null,
   "metadata": {
    "colab": {
     "base_uri": "https://localhost:8080/"
    },
    "id": "Z8qJKUCtrK-A",
    "outputId": "f411ef4d-fdcd-4707-aec9-c548f56b4f6a"
   },
   "outputs": [
    {
     "name": "stdout",
     "output_type": "stream",
     "text": [
      "8252\n"
     ]
    }
   ],
   "source": [
    "#sum of all rows with missing values\n",
    "print(train.isnull().any(axis=1).sum())"
   ]
  },
  {
   "cell_type": "markdown",
   "metadata": {
    "id": "SKqfZmavspRv"
   },
   "source": [
    "are the missing data related or missing completely at random?"
   ]
  },
  {
   "cell_type": "code",
   "execution_count": null,
   "metadata": {
    "id": "dJxdlJfRsQgi"
   },
   "outputs": [],
   "source": [
    "#we perform a chi-square test to understand the relationship between missing data\n",
    "\n",
    "#import chi2 from scipy\n",
    "from scipy.stats import chi2_contingency"
   ]
  },
  {
   "cell_type": "code",
   "execution_count": null,
   "metadata": {
    "colab": {
     "base_uri": "https://localhost:8080/"
    },
    "id": "-JEOOrKktEG8",
    "outputId": "5e4e2178-52c7-4bc0-9afd-2c4571939d23"
   },
   "outputs": [
    {
     "name": "stdout",
     "output_type": "stream",
     "text": [
      "Chi-square: 32294.55788451337\n",
      "p-value: 1.0\n"
     ]
    }
   ],
   "source": [
    "# Convert train to a binary matrix with 1 for missing values and 0 for non-missing values\n",
    "binary_matrix = train.isnull().astype(int)\n",
    "\n",
    "# Add 0.01 to each cell to avoid an excessive number of 0 values skewing results\n",
    "constant = 0.01\n",
    "binary_matrix += constant\n",
    "\n",
    "# Perform the Chi-square test (Little's MCAR test)\n",
    "# If p-value is 1, missing values are MCAR, and there's no pattern to missingness.\n",
    "chi2, p_value, _, _ = chi2_contingency(binary_matrix)\n",
    "\n",
    "# Print Chi-square statistic and p-value. If p-value < 0.05, reject MCAR null hypothesis,\n",
    "# indicating a pattern in missingness.\n",
    "print(\"Chi-square:\", chi2)\n",
    "\n",
    "print(\"p-value:\", p_value)\n"
   ]
  },
  {
   "cell_type": "markdown",
   "metadata": {
    "id": "h19WA6k2u8nj"
   },
   "source": [
    "In this case, p-value is 1.0, failing to reject MCAR null hypothesis. Analysis is unbiased. then we can proceed to understanding our data better"
   ]
  },
  {
   "cell_type": "markdown",
   "metadata": {
    "id": "vQJht-ynvU8n"
   },
   "source": [
    "# EDA Continued"
   ]
  },
  {
   "cell_type": "code",
   "execution_count": null,
   "metadata": {
    "colab": {
     "base_uri": "https://localhost:8080/"
    },
    "id": "ZSFJGRN0wSuj",
    "outputId": "0a8abedc-cc52-4000-9909-e929a44b85f5"
   },
   "outputs": [
    {
     "data": {
      "text/plain": [
       "ID                 int64\n",
       "loc               object\n",
       "title             object\n",
       "bedroom          float64\n",
       "bathroom         float64\n",
       "parking_space    float64\n",
       "price            float64\n",
       "dtype: object"
      ]
     },
     "execution_count": 18,
     "metadata": {},
     "output_type": "execute_result"
    }
   ],
   "source": [
    "train.dtypes"
   ]
  },
  {
   "cell_type": "code",
   "execution_count": null,
   "metadata": {
    "colab": {
     "base_uri": "https://localhost:8080/",
     "height": 430
    },
    "id": "Y2mPHNAbvbC9",
    "outputId": "7b17d174-cf43-48ea-9c45-bb598f476c9b"
   },
   "outputs": [
    {
     "data": {
      "image/png": "[encoded data removed]",
      "text/plain": [
       "<Figure size 640x480 with 1 Axes>"
      ]
     },
     "metadata": {},
     "output_type": "display_data"
    }
   ],
   "source": [
    "plt.hist(data=train, x='bedroom', bins=20)\n",
    "plt.show()"
   ]
  },
  {
   "cell_type": "code",
   "execution_count": null,
   "metadata": {
    "colab": {
     "base_uri": "https://localhost:8080/",
     "height": 449
    },
    "id": "tZrZx9CE0NOE",
    "outputId": "2a172966-2130-419d-f5ad-04d4ee212c5f"
   },
   "outputs": [
    {
     "data": {
      "image/png": "[encoded data removed]",
      "text/plain": [
       "<Figure size 640x480 with 1 Axes>"
      ]
     },
     "metadata": {},
     "output_type": "display_data"
    }
   ],
   "source": [
    "sns.boxplot(data=train, x='bedroom')\n",
    "plt.show()"
   ]
  },
  {
   "cell_type": "code",
   "execution_count": null,
   "metadata": {
    "colab": {
     "base_uri": "https://localhost:8080/",
     "height": 430
    },
    "id": "aTY25WBb0YHu",
    "outputId": "93bd5fed-a38d-4aef-e685-288a83178035"
   },
   "outputs": [
    {
     "data": {
      "image/png": "[encoded data removed]",
      "text/plain": [
       "<Figure size 640x480 with 1 Axes>"
      ]
     },
     "metadata": {},
     "output_type": "display_data"
    }
   ],
   "source": [
    "plt.hist(data=train, x='bathroom', bins=20)\n",
    "plt.show()"
   ]
  },
  {
   "cell_type": "code",
   "execution_count": null,
   "metadata": {
    "colab": {
     "base_uri": "https://localhost:8080/",
     "height": 449
    },
    "id": "fXLKsERm0sbN",
    "outputId": "06eb3895-4ede-4e07-8d97-35d9d726e6c3"
   },
   "outputs": [
    {
     "data": {
      "image/png": "[encoded data removed]",
      "text/plain": [
       "<Figure size 640x480 with 1 Axes>"
      ]
     },
     "metadata": {},
     "output_type": "display_data"
    }
   ],
   "source": [
    "sns.boxplot(data=train, x='bathroom')\n",
    "plt.show()"
   ]
  },
  {
   "cell_type": "code",
   "execution_count": null,
   "metadata": {
    "colab": {
     "base_uri": "https://localhost:8080/",
     "height": 430
    },
    "id": "NH8NRJ2G0wkT",
    "outputId": "2094bdc4-a5de-4e27-9795-fd427927c85a"
   },
   "outputs": [
    {
     "data": {
      "image/png": "[encoded data removed]",
      "text/plain": [
       "<Figure size 640x480 with 1 Axes>"
      ]
     },
     "metadata": {},
     "output_type": "display_data"
    }
   ],
   "source": [
    "plt.hist(data=train, x='parking_space', bins=20)\n",
    "plt.show()"
   ]
  },
  {
   "cell_type": "code",
   "execution_count": null,
   "metadata": {
    "colab": {
     "base_uri": "https://localhost:8080/",
     "height": 450
    },
    "id": "wrZia6kt02Ui",
    "outputId": "a7e9cf0f-80a3-4b50-b201-0f78e1d7544d"
   },
   "outputs": [
    {
     "data": {
      "image/png": "[encoded data removed]",
      "text/plain": [
       "<Figure size 640x480 with 1 Axes>"
      ]
     },
     "metadata": {},
     "output_type": "display_data"
    }
   ],
   "source": [
    "sns.boxplot(data=train, x='parking_space')\n",
    "plt.show()"
   ]
  },
  {
   "cell_type": "markdown",
   "metadata": {
    "id": "NLC5zuEj08aS"
   },
   "source": [
    "visualizing the numerical columns showed a normal distribution of the data"
   ]
  },
  {
   "cell_type": "markdown",
   "metadata": {
    "id": "27NcQTyW1Ijc"
   },
   "source": [
    "we can then begin to understand how the categorical columns are shared across the target column"
   ]
  },
  {
   "cell_type": "code",
   "execution_count": null,
   "metadata": {
    "colab": {
     "base_uri": "https://localhost:8080/"
    },
    "id": "aW9qGEKG07gz",
    "outputId": "6d6f0860-ec9a-492d-d3b8-a2db367da968"
   },
   "outputs": [
    {
     "data": {
      "text/plain": [
       "title\n",
       "Mansion                 3.724331e+06\n",
       "Penthouse               2.628103e+06\n",
       "Detached duplex         2.207907e+06\n",
       "Townhouse               2.055194e+06\n",
       "Terrace duplex          1.927270e+06\n",
       "Semi-detached duplex    1.918595e+06\n",
       "Bungalow                1.732427e+06\n",
       "Flat                    1.722613e+06\n",
       "Apartment               1.567481e+06\n",
       "Cottage                 1.307149e+06\n",
       "Name: price, dtype: float64"
      ]
     },
     "execution_count": 25,
     "metadata": {},
     "output_type": "execute_result"
    }
   ],
   "source": [
    "#understanding the distribution of prices via title\n",
    "train.groupby(by='title')['price'].mean().sort_values(ascending=False)"
   ]
  },
  {
   "cell_type": "markdown",
   "metadata": {
    "id": "zSn0IRZu189Y"
   },
   "source": [
    "mansions are more expensive(on average) than other types of houses"
   ]
  },
  {
   "cell_type": "code",
   "execution_count": null,
   "metadata": {
    "colab": {
     "base_uri": "https://localhost:8080/"
    },
    "id": "ZpYqU_1Q12ub",
    "outputId": "f4d3abb2-ab78-4d3d-e49f-85f09e8eb518"
   },
   "outputs": [
    {
     "data": {
      "text/plain": [
       "loc\n",
       "Lagos          4.206297e+06\n",
       "Bayelsa        3.112322e+06\n",
       "Rivers         2.957098e+06\n",
       "Akwa Ibom      2.719603e+06\n",
       "Delta          2.707784e+06\n",
       "Ogun           2.564020e+06\n",
       "Cross River    2.507765e+06\n",
       "Anambra        2.340069e+06\n",
       "Edo            2.310452e+06\n",
       "Oyo            2.295890e+06\n",
       "Ondo           2.275987e+06\n",
       "Enugu          2.270996e+06\n",
       "Osun           2.180408e+06\n",
       "Ekiti          2.109220e+06\n",
       "Kano           2.081931e+06\n",
       "Imo            2.067489e+06\n",
       "Nasarawa       2.063916e+06\n",
       "Katsina        1.947589e+06\n",
       "Plateau        1.944207e+06\n",
       "Benue          1.922663e+06\n",
       "Kwara          1.903424e+06\n",
       "Adamawa        1.903241e+06\n",
       "Niger          1.876637e+06\n",
       "Gombe          1.855487e+06\n",
       "Taraba         1.855306e+06\n",
       "Kaduna         1.846993e+06\n",
       "Bauchi         1.772961e+06\n",
       "Kogi           1.761205e+06\n",
       "Yobe           1.749611e+06\n",
       "Borno          1.736760e+06\n",
       "Jigawa         1.735867e+06\n",
       "Abia           1.717083e+06\n",
       "Zamfara        1.689541e+06\n",
       "Sokoto         1.681449e+06\n",
       "Ebonyi         1.637198e+06\n",
       "Kebbi          1.616372e+06\n",
       "Name: price, dtype: float64"
      ]
     },
     "execution_count": 26,
     "metadata": {},
     "output_type": "execute_result"
    }
   ],
   "source": [
    "#understanding the distribution of prices via loc\n",
    "train.groupby(by='loc')['price'].mean().sort_values(ascending=False)"
   ]
  },
  {
   "cell_type": "markdown",
   "metadata": {
    "id": "H0hW353E2M5s"
   },
   "source": [
    "from the above, houses in Lagos are more expensive(on average) than other in other locations"
   ]
  },
  {
   "cell_type": "code",
   "execution_count": null,
   "metadata": {
    "colab": {
     "base_uri": "https://localhost:8080/"
    },
    "id": "gNPyyT4L0C8w",
    "outputId": "e41c0505-1b6f-47c0-a6f7-529d168b42c9"
   },
   "outputs": [
    {
     "data": {
      "text/plain": [
       "count    12168.000000\n",
       "mean         4.308268\n",
       "std          2.440694\n",
       "min          1.000000\n",
       "25%          2.000000\n",
       "50%          4.000000\n",
       "75%          6.000000\n",
       "max          9.000000\n",
       "Name: bedroom, dtype: float64"
      ]
     },
     "execution_count": 27,
     "metadata": {},
     "output_type": "execute_result"
    }
   ],
   "source": [
    "train['bedroom'].describe()"
   ]
  },
  {
   "cell_type": "code",
   "execution_count": null,
   "metadata": {
    "colab": {
     "base_uri": "https://localhost:8080/"
    },
    "id": "nwLNB8RiwsYy",
    "outputId": "f1ae1458-e402-43b8-85b4-e95c15891fa8"
   },
   "outputs": [
    {
     "data": {
      "text/plain": [
       "5.0    1782\n",
       "2.0    1737\n",
       "1.0    1732\n",
       "3.0    1731\n",
       "4.0    1638\n",
       "6.0     907\n",
       "7.0     887\n",
       "9.0     879\n",
       "8.0     875\n",
       "Name: bedroom, dtype: int64"
      ]
     },
     "execution_count": 28,
     "metadata": {},
     "output_type": "execute_result"
    }
   ],
   "source": [
    "train['bedroom'].value_counts()"
   ]
  },
  {
   "cell_type": "code",
   "execution_count": null,
   "metadata": {
    "colab": {
     "base_uri": "https://localhost:8080/",
     "height": 607
    },
    "id": "hMdfnLHs2vsy",
    "outputId": "663e7484-3b68-48d6-97a9-a39f8fb38d14"
   },
   "outputs": [
    {
     "data": {
      "image/png": "[encoded data removed]",
      "text/plain": [
       "<Figure size 640x480 with 1 Axes>"
      ]
     },
     "metadata": {},
     "output_type": "display_data"
    }
   ],
   "source": [
    "#check out the distribution of price based on title\n",
    "sns.barplot(data=train, x='title' , y='price')\n",
    "plt.xticks(rotation=90)\n",
    "plt.show()"
   ]
  },
  {
   "cell_type": "code",
   "execution_count": null,
   "metadata": {
    "colab": {
     "base_uri": "https://localhost:8080/",
     "height": 529
    },
    "id": "v9WzfgtJ20fk",
    "outputId": "faabb532-53a2-4951-fb33-69ddc1b06b50"
   },
   "outputs": [
    {
     "data": {
      "image/png": "[encoded data removed]",
      "text/plain": [
       "<Figure size 640x480 with 1 Axes>"
      ]
     },
     "metadata": {},
     "output_type": "display_data"
    }
   ],
   "source": [
    "#check out the distribution of price based on loc\n",
    "sns.barplot(data=train, x='loc' , y='price')\n",
    "plt.xticks(rotation=90)\n",
    "plt.show()"
   ]
  },
  {
   "cell_type": "code",
   "execution_count": null,
   "metadata": {
    "colab": {
     "base_uri": "https://localhost:8080/",
     "height": 591
    },
    "id": "91NSpYC327Cn",
    "outputId": "f5acc026-8d55-4cc8-a6a2-ae8205f2af64"
   },
   "outputs": [
    {
     "data": {
      "image/png": "[encoded data removed]",
      "text/plain": [
       "<Figure size 640x480 with 1 Axes>"
      ]
     },
     "metadata": {},
     "output_type": "display_data"
    }
   ],
   "source": [
    "#check out the distribution of bathroom based on title\n",
    "sns.barplot(data=train, x='title' , y='bathroom')\n",
    "plt.xticks(rotation=90)\n",
    "plt.show()"
   ]
  },
  {
   "cell_type": "markdown",
   "metadata": {
    "id": "_7QJrtccasKO"
   },
   "source": [
    "## Collecting Exra Data"
   ]
  },
  {
   "cell_type": "code",
   "execution_count": null,
   "metadata": {
    "id": "bs93ONFYaHme"
   },
   "outputs": [],
   "source": [
    "properties=[]\n",
    "check= {'Anambra': 'awka',\n",
    " 'Ekiti': 'ado-ekiti',\n",
    " 'Ondo':'akure',\n",
    " 'Borno':'maiduguri',\n",
    " 'Abia': 'umuahia',\n",
    " 'Ogun':'abeokuta',\n",
    " 'Rivers':'port-harcourt',\n",
    "  'Kwara': 'ilorin',\n",
    " 'Edo':'benin-city',\n",
    " 'Niger':'minna',\n",
    " 'Imo':'owerri',\n",
    " 'Delta':'warri',\n",
    " 'Yobe':'damaturu',\n",
    " 'Osun':'osogbo',\n",
    " 'Niger':'Minna',\n",
    " 'Cross River':'calabar',\n",
    " 'Plateau':'jos',\n",
    " 'Zamfara':'gusau',\n",
    " 'Adamawa':'mubi'\n",
    "}\n",
    "for i in train['loc'].unique():\n",
    "\n",
    "    if i in check:\n",
    "        j=check[i]\n",
    "    else:\n",
    "        j=i\n",
    "    try:\n",
    "        df=pd.read_html('https://livingcost.org/cost/nigeria/'+j.lower())[0]['One person'].to_list()\n",
    "    except:\n",
    "        df= [np.nan]*8\n",
    "    df.append(i)\n",
    "    properties.append(df)\n",
    "state_info= pd.DataFrame(properties, columns=['Total with rent', 'Without rent', 'Rent & Utilities', 'Food', 'Transport','Monthly salary after tax','Quality of life','Population', 'loc'])\n",
    "state_info.to_csv('states.csv', index= False)"
   ]
  },
  {
   "cell_type": "markdown",
   "metadata": {
    "id": "Ldl0bX2630E2"
   },
   "source": [
    "## Machine learning Pre-processing"
   ]
  },
  {
   "cell_type": "code",
   "execution_count": null,
   "metadata": {
    "id": "pO1t3RnGbGMu"
   },
   "outputs": [],
   "source": [
    "train= pd.read_csv('Housing_dataset_train.csv')\n",
    "test= pd.read_csv('Housing_dataset_test.csv')\n",
    "ss= pd.read_csv('Sample_submission.csv')\n",
    "states= pd.read_csv('states.csv')"
   ]
  },
  {
   "cell_type": "code",
   "execution_count": null,
   "metadata": {
    "id": "J0lwftJjbKLI"
   },
   "outputs": [],
   "source": [
    "train=pd.merge(train, states, on='loc', how='left')\n",
    "test=pd.merge(test, states, on='loc', how='left')"
   ]
  },
  {
   "cell_type": "code",
   "execution_count": null,
   "metadata": {
    "id": "jKMkyKvPbNKq"
   },
   "outputs": [],
   "source": [
    "train['rooms']=train['bedroom']+ train['bathroom']\n",
    "test['rooms']=test['bedroom']+ test['bathroom']"
   ]
  },
  {
   "cell_type": "code",
   "execution_count": null,
   "metadata": {
    "id": "25vUWpZHbSdP"
   },
   "outputs": [],
   "source": [
    "from sklearn.preprocessing import OrdinalEncoder\n",
    "\n",
    "encoder= OrdinalEncoder()\n",
    "X= train.drop(['price'], axis=1)\n",
    "\n",
    "X[['loc', 'title']]=encoder.fit_transform(X[['loc', 'title']])\n",
    "test[['loc', 'title']]=encoder.transform(test[['loc', 'title']])\n",
    "print(X)"
   ]
  },
  {
   "cell_type": "code",
   "execution_count": null,
   "metadata": {
    "id": "1CBsw1YObfdk"
   },
   "outputs": [],
   "source": [
    "def clean(x):\n",
    "    if type(x) != float:\n",
    "        return float(x.replace('$', ''))\n",
    "    else:\n",
    "        return x\n",
    "def populate(x):\n",
    "    if type(x) != float:\n",
    "        if 'M' in x:\n",
    "            a= float(x.replace('M', ''))\n",
    "        else:\n",
    "            a= int(x.replace('K', ''))/1000\n",
    "        return a\n",
    "    else:\n",
    "        return x"
   ]
  },
  {
   "cell_type": "code",
   "execution_count": null,
   "metadata": {
    "id": "5a2msbx4cRGk"
   },
   "outputs": [],
   "source": [
    "X['Total with rent']= X['Total with rent'].apply(clean)\n",
    "X['Without rent']= X['Without rent'].apply(clean)\n",
    "X['Rent & Utilities']= X['Rent & Utilities'].apply(clean)\n",
    "X['Food']= X['Food'].apply(clean)\n",
    "X['Transport']= X['Transport'].apply(clean)\n",
    "X['Monthly salary after tax']= X['Monthly salary after tax'].apply(clean)\n",
    "X['Population']= X['Population'].apply(populate)"
   ]
  },
  {
   "cell_type": "code",
   "execution_count": null,
   "metadata": {
    "id": "rpfJyYQAbgtf"
   },
   "outputs": [],
   "source": [
    "test['Total with rent']= test['Total with rent'].apply(clean)\n",
    "test['Without rent']= test['Without rent'].apply(clean)\n",
    "test['Rent & Utilities']= test['Rent & Utilities'].apply(clean)\n",
    "test['Food']= test['Food'].apply(clean)\n",
    "test['Transport']= test['Transport'].apply(clean)\n",
    "test['Monthly salary after tax']= test['Monthly salary after tax'].apply(clean)\n",
    "test['Population']= test['Population'].apply(populate)"
   ]
  },
  {
   "cell_type": "code",
   "execution_count": null,
   "metadata": {
    "id": "e9swFiDncgsV"
   },
   "outputs": [],
   "source": [
    "Y=train[['price']]"
   ]
  },
  {
   "cell_type": "code",
   "execution_count": null,
   "metadata": {
    "id": "7Zvxedy4cgdj"
   },
   "outputs": [],
   "source": [
    "from sklearn.model_selection import train_test_split"
   ]
  },
  {
   "cell_type": "code",
   "execution_count": null,
   "metadata": {
    "id": "LAk4cXg6evQW"
   },
   "outputs": [],
   "source": [
    "Y=train[['price']]"
   ]
  },
  {
   "cell_type": "code",
   "execution_count": null,
   "metadata": {
    "id": "JsvpZKuRgrp9"
   },
   "outputs": [],
   "source": [
    "from sklearn.model_selection import train_test_split"
   ]
  },
  {
   "cell_type": "code",
   "execution_count": null,
   "metadata": {
    "id": "S1agddawgtRC"
   },
   "outputs": [],
   "source": [
    "x_train, x_test, y_train, y_test= train_test_split(X, Y, random_state=0, test_size=0.3)"
   ]
  },
  {
   "cell_type": "markdown",
   "metadata": {
    "id": "e9aXbKTz5xea"
   },
   "source": [
    "# ML Modelling"
   ]
  },
  {
   "cell_type": "code",
   "execution_count": null,
   "metadata": {
    "id": "ZJDVyanvgzKk"
   },
   "outputs": [],
   "source": [
    "from lightgbm import LGBMRegressor"
   ]
  },
  {
   "cell_type": "code",
   "execution_count": null,
   "metadata": {
    "id": "hOB4fKBXgzFt"
   },
   "outputs": [],
   "source": [
    "model= LGBMRegressor(random_state=42)"
   ]
  },
  {
   "cell_type": "code",
   "execution_count": null,
   "metadata": {
    "id": "CD3KYNbUgzCX"
   },
   "outputs": [],
   "source": [
    "model.fit(x_train, y_train)"
   ]
  },
  {
   "cell_type": "code",
   "execution_count": null,
   "metadata": {
    "id": "DggeXijTgy-3"
   },
   "outputs": [],
   "source": [
    "from sklearn.metrics import mean_squared_error"
   ]
  },
  {
   "cell_type": "code",
   "execution_count": null,
   "metadata": {
    "id": "-5ftmODUgy7B"
   },
   "outputs": [],
   "source": [
    "np.sqrt(mean_squared_error(y_test, model.predict(x_test)))"
   ]
  },
  {
   "cell_type": "code",
   "execution_count": null,
   "metadata": {
    "id": "c6gC81JadM2f"
   },
   "outputs": [],
   "source": [
    "model.fit(X, Y)"
   ]
  },
  {
   "cell_type": "code",
   "execution_count": null,
   "metadata": {
    "id": "6iQTtr0zdMlo"
   },
   "outputs": [],
   "source": [
    "ss['price']= model.predict(test)"
   ]
  },
  {
   "cell_type": "code",
   "execution_count": null,
   "metadata": {
    "id": "Osoy-g5pdZl2"
   },
   "outputs": [],
   "source": [
    "ss.to_csv('solution1.csv', index=False)"
   ]
  }
 ],
 "metadata": {
  "colab": {
   "provenance": []
  },
  "kernelspec": {
   "display_name": "Python 3 (ipykernel)",
   "language": "python",
   "name": "python3"
  },
  "language_info": {
   "codemirror_mode": {
    "name": "ipython",
    "version": 3
   },
   "file_extension": ".py",
   "mimetype": "text/x-python",
   "name": "python",
   "nbconvert_exporter": "python",
   "pygments_lexer": "ipython3",
   "version": "3.9.12"
  }
 },
 "nbformat": 4,
 "nbformat_minor": 1
}
